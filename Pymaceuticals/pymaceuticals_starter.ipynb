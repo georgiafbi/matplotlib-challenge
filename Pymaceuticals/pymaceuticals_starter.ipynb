{
 "cells": [
  {
   "cell_type": "markdown",
   "metadata": {},
   "source": [
    "## Observations and Insights "
   ]
  },
  {
   "cell_type": "markdown",
   "metadata": {},
   "source": []
  },
  {
   "cell_type": "code",
   "execution_count": null,
   "metadata": {},
   "outputs": [],
   "source": [
    "# Dependencies and Setup\n",
    "import matplotlib.pyplot as plt\n",
    "import pandas as pd\n",
    "import scipy.stats as sts\n",
    "import numpy as np\n",
    "from pprint import pprint\n",
    "from scipy.stats import linregress\n",
    "from sklearn import datasets"
   ]
  },
  {
   "cell_type": "code",
   "execution_count": null,
   "metadata": {},
   "outputs": [],
   "source": [
    "# Study data files\n",
    "mouse_metadata_path = \"data/Mouse_metadata.csv\"\n",
    "study_results_path = \"data/Study_results.csv\"\n",
    "\n",
    "# Read the mouse data and the study results\n",
    "mouse_metadata = pd.read_csv(mouse_metadata_path)\n",
    "study_results = pd.read_csv(study_results_path)\n",
    "\n",
    "# Combine the data into a single dataset\n",
    "combined_data = pd.merge(mouse_metadata, study_results, on=\"Mouse ID\")\n",
    "# Display the data table for preview\n",
    "combined_data.to_csv(\"data/combined_data.csv\")\n",
    "combined_data.head()"
   ]
  },
  {
   "cell_type": "code",
   "execution_count": null,
   "metadata": {},
   "outputs": [],
   "source": [
    "# Checking the number of mice.\n",
    "print(combined_data[\"Mouse ID\"].count())"
   ]
  },
  {
   "cell_type": "code",
   "execution_count": null,
   "metadata": {},
   "outputs": [],
   "source": [
    "# Getting the duplicate mice by ID number that shows up for Mouse ID and Timepoint. \n",
    "\n",
    "# Optional: Get all the data for the duplicate mouse ID. "
   ]
  },
  {
   "cell_type": "code",
   "execution_count": null,
   "metadata": {},
   "outputs": [],
   "source": [
    "# Create a clean DataFrame by dropping the duplicate mouse by its ID.\n",
    "clean_df = combined_data.drop_duplicates(subset=[\"Mouse ID\", \"Timepoint\"], keep='first')\n",
    "clean_df.to_csv(\"data/clean_df.csv\")\n",
    "clean_df.head(10)"
   ]
  },
  {
   "cell_type": "code",
   "execution_count": null,
   "metadata": {},
   "outputs": [],
   "source": [
    "# Checking the number of mice in the clean DataFrame.\n",
    "print(clean_df[\"Mouse ID\"].count())"
   ]
  },
  {
   "cell_type": "markdown",
   "metadata": {},
   "source": [
    "## Summary Statistics"
   ]
  },
  {
   "cell_type": "code",
   "execution_count": null,
   "metadata": {},
   "outputs": [],
   "source": [
    "# Generate a summary statistics table of mean, median, variance, standard deviation, and SEM of the tumor volume for each regimen\n",
    "# Use groupby and summary statistical methods to calculate the following properties of each drug regimen: \n",
    "# mean, median, variance, standard deviation, and SEM of the tumor volume. \n",
    "# Assemble the resulting series into a single summary dataframe.\n",
    "tumor_volume_statics= clean_df.groupby(\"Drug Regimen\")[\"Tumor Volume (mm3)\"].describe()\n",
    "tumor_volume_statics[\"Median\"]=clean_df.groupby(\"Drug Regimen\")[\"Tumor Volume (mm3)\"].median()\n",
    "tumor_volume_statics[\"Variance\"]= clean_df.groupby(\"Drug Regimen\")[\"Tumor Volume (mm3)\"].var()\n",
    "tumor_volume_statics[\"Standard Deviation\"]= clean_df.groupby(\"Drug Regimen\")[\"Tumor Volume (mm3)\"].std()\n",
    "tumor_volume_statics[\"SEM\"]=clean_df.groupby(\"Drug Regimen\")[\"Tumor Volume (mm3)\"].sem()\n",
    "tvs_df1 = tumor_volume_statics.drop(tumor_volume_statics.columns[[0, 2, 3,4,5,6,7]], axis=1)\n",
    "tvs_df1.rename(columns={'mean':\"Mean\"},inplace =True)\n",
    "tvs_df1.head()\n"
   ]
  },
  {
   "cell_type": "code",
   "execution_count": null,
   "metadata": {},
   "outputs": [],
   "source": [
    "# Generate a summary statistics table of mean, median, variance, standard deviation, and SEM of the tumor volume for each regimen\n",
    "\n",
    "# Using the aggregation method, produce the same summary statistics in a single line\n",
    "#df.groupby('A').agg({'B': ['min', 'max'], 'C': 'sum'})\n",
    "tvs_df2=clean_df.groupby(\"Drug Regimen\").agg({\"Tumor Volume (mm3)\":['mean', 'median', 'var', 'std', 'sem']})\n",
    "tvs_df2.rename(columns={'mean':\"Mean\", \"median\": \"Median\", \"var\":\"Variance\",\"std\":\"Standard Deviation\",'sem':\"SEM\"},inplace =True)\n",
    "tvs_df2.head()"
   ]
  },
  {
   "cell_type": "markdown",
   "metadata": {},
   "source": [
    "## Bar and Pie Charts"
   ]
  },
  {
   "cell_type": "code",
   "execution_count": null,
   "metadata": {},
   "outputs": [],
   "source": [
    "# Generate a bar plot showing the total number of measurements taken on each drug regimen using pandas.\n",
    "ax =tvs_df1.plot(kind='bar',rot=45, figsize=(20,5))\n",
    "plt.title('Tumor Measurement Statistics Taken on Each Drug Regimen')\n",
    "plt.tight_layout()\n",
    "plt.show()"
   ]
  },
  {
   "cell_type": "code",
   "execution_count": null,
   "metadata": {},
   "outputs": [],
   "source": [
    "# Generate a bar plot showing the total number of measurements taken on each drug regimen using pyplot.\n",
    "def multibarplot(x,y1,y2,y3,y4,y5,ticks):\n",
    "    plt.rcParams[\"figure.figsize\"] = [25,5]\n",
    "    fig = plt.figure()\n",
    "    ax = fig.add_subplot(111)\n",
    "    width=0.1\n",
    "    y_values=[y1,y2,y3,y4,y5]\n",
    "    ticks=ticks\n",
    "    bars=[]\n",
    "    for y in range(1,len(y_values)+1):\n",
    "        if y == 1:\n",
    "            bar=ax.bar(x_axis-0.2,y_values[y-1],width)\n",
    "            bars.append(bar[0])\n",
    "        else:\n",
    "            bar=ax.bar(x_axis-0.2+width*(y-1),y_values[y-1],width)\n",
    "            bars.append(bar[0])\n",
    "    plt.xticks(x_axis, ticks,rotation=45)\n",
    "    ax.legend(bars,[\"Mean\", \"Median\", \"Variance\",\"Standard Deviation\",\"SEM\"],loc=2)\n",
    "    plt.xlabel(\"Drug Regimen\")\n",
    "    plt.title('Tumor Measurement Statistics Taken on Each Drug Regimen')\n",
    "    plt.show()\n",
    "x_axis = np.arange(len(tvs_df1[\"Mean\"]))+1\n",
    "mean_tv=tvs_df1[\"Mean\"]\n",
    "#ax.bar(x_axis,mean_tv,shift)\n",
    "median_tv=tvs_df1[\"Median\"]\n",
    "#ax.bar(x_axis+width,median_tv,shift)\n",
    "var_tv=tvs_df1[\"Variance\"]\n",
    "#ax.bar(x_axis+width*2,var_tv,shift)\n",
    "std_tv=tvs_df1[\"Standard Deviation\"]\n",
    "sem_tv=tvs_df1[\"SEM\"]\n",
    "drug_names=tvs_df1.reset_index()[\"Drug Regimen\"]\n",
    "multibarplot(x_axis,mean_tv,median_tv,var_tv,std_tv,sem_tv,drug_names)\n"
   ]
  },
  {
   "cell_type": "code",
   "execution_count": null,
   "metadata": {},
   "outputs": [],
   "source": [
    "# Generate a pie plot showing the distribution of female versus male mice using pandas\n",
    "sex_nums=combined_data[\"Sex\"].value_counts().plot(kind=\"pie\", explode = (0.1,0), shadow =True, startangle=160,autopct=\"%1.1f%%\", figsize=(5,5))\n",
    "plt.title(\"Sex\")\n",
    "plt.show()"
   ]
  },
  {
   "cell_type": "code",
   "execution_count": null,
   "metadata": {},
   "outputs": [],
   "source": [
    "# Generate a pie plot showing the distribution of female versus male mice using pyplot\n",
    "male_count=combined_data.loc[combined_data[\"Sex\"]==\"Male\"].count()[2]\n",
    "female_count=combined_data.loc[combined_data[\"Sex\"]==\"Female\"].count()[2]\n",
    "sex_counts=[male_count,female_count]\n",
    "sex_type=[\"Male\", \"Female\"]\n",
    "explode = (0.1,0)\n",
    "plt.pie(sex_counts,explode=explode,labels=sex_type,autopct=\"%1.1f%%\",shadow=True,startangle=160)\n",
    "plt.title(\"Sex\",loc=\"center\")\n",
    "plt.show()"
   ]
  },
  {
   "cell_type": "markdown",
   "metadata": {},
   "source": [
    "## Quartiles, Outliers and Boxplots"
   ]
  },
  {
   "cell_type": "code",
   "execution_count": null,
   "metadata": {},
   "outputs": [],
   "source": [
    "# Calculate the final tumor volume of each mouse across four of the treatment regimens:  \n",
    "# Capomulin, Ramicane, Infubinol, and Ceftamin\n",
    "\n",
    "# Start by getting the last (greatest) timepoint for each mouse\n",
    "last_timepoint_df = combined_data.groupby(\"Mouse ID\")[\"Timepoint\"].max()\n",
    "last_timepoint_df=last_timepoint_df.reset_index()\n",
    "# Merge this group df with the original dataframe to get the tumor volume at the last timepoint\n",
    "final_tv_df = pd.merge(combined_data,last_timepoint_df, on=\"Mouse ID\")\n",
    "final_tv_df.head(20)\n",
    "final_timepoint_tv = final_tv_df.loc[final_tv_df['Timepoint_x'] == final_tv_df['Timepoint_y']]\n",
    "final_timepoint_tv = final_timepoint_tv.reset_index()\n",
    "final_timepoint_tv.rename(columns={'Timepoint_x':\"Timepoint\", \"Timepoint_y\": \"Final Timepoint\"},inplace =True)\n",
    "final_timepoint_tv.head(10)"
   ]
  },
  {
   "cell_type": "code",
   "execution_count": null,
   "metadata": {},
   "outputs": [],
   "source": [
    "# Put treatments into a list for for loop (and later for plot labels)\n",
    "treatments=['Capomulin', 'Ramicane', 'Infubinol', 'Ceftamin']\n",
    "# Create empty list to fill with tumor vol data (for plotting)\n",
    "tumor_vol_data=[]\n",
    "tumor_vol_data_s=[]\n",
    "lowerq=[]\n",
    "upperq=[]\n",
    "iqr=[]\n",
    "lower_bound =[]\n",
    "upper_bound=[]\n",
    "# Calculate the IQR and quantitatively determine if there are any potential outliers. \n",
    "for drug in treatments:\n",
    "    t_vol=final_timepoint_tv.loc[final_timepoint_tv[\"Drug Regimen\"]==drug] #[\"Tumor Volume (mm3)\"]\n",
    "    t_vol_list=t_vol[\"Tumor Volume (mm3)\"].tolist()\n",
    "    tumor_vol_data_s.append(t_vol[\"Tumor Volume (mm3)\"])\n",
    "    tumor_vol_data.append(t_vol_list)\n",
    "    # add subset \n",
    "    quartiles = t_vol[\"Tumor Volume (mm3)\"].quantile([.25,.5,.75])\n",
    "    lowerq.append(quartiles[0.25])\n",
    "    upperq.append(quartiles[0.75])\n",
    "    iqr.append(quartiles[0.75]-quartiles[0.25])"
   ]
  },
  {
   "cell_type": "code",
   "execution_count": null,
   "metadata": {},
   "outputs": [],
   "source": [
    "for i in range(len(treatments)):\n",
    "    # Determine outliers using upper and lower bounds\n",
    "    lower_bound.append(lowerq[i]-(1.5*iqr[i]))\n",
    "    upper_bound.append(upperq[i]+(1.5*iqr[i]))"
   ]
  },
  {
   "cell_type": "code",
   "execution_count": null,
   "metadata": {},
   "outputs": [],
   "source": [
    "# Generate a box plot of the final tumor volume of each mouse across four regimens of interest\n",
    "outliers=[]\n",
    "outlier_x_points=[]\n",
    "fig,axs=plt.subplots(2,2)\n",
    "for j in range(len(tumor_vol_data_s)):\n",
    "    x=[0,1,0,1]\n",
    "    y=[0,1,1,0]\n",
    "    ax1=axs[x[j],y[j]]\n",
    "    ax1.set_title(f\"Final Tumor Volume of Each Mouse Treated with {treatments[j]}\")\n",
    "    ax1.set_ylabel(\"Tumor Volume (mm3)\")\n",
    "    ax1.set_ylim(0,upper_bound[j]+10)\n",
    "    ax1.boxplot(tumor_vol_data_s[j],notch=True,flierprops=dict(markerfacecolor='r',marker='D'))\n",
    "    y_points=[lowerq[j],upperq[j],iqr[j],lower_bound[j],upper_bound[j]]\n",
    "    x_points=[1,1,1,1,1]\n",
    "    sub_outliers=[]\n",
    "    sub_x_p_outliers=[]\n",
    "    for o in tumor_vol_data_s[j]:\n",
    "        if o > upper_bound[j] or o <lower_bound[j]:\n",
    "            sub_outliers.append(o)\n",
    "            sub_x_p_outliers.append(1)\n",
    "    outliers.append(sub_outliers)\n",
    "    outlier_x_points.append(sub_x_p_outliers)\n",
    "    q_labels=[\"Lower Quartiles\",\"Upper Quartile\", \"Interquartile Range\",\"Lower Bound\", \"Upper Bound\"]\n",
    "    ax1.plot(x_points[:2],y_points[:2],ls='',marker='o',mec=\"blue\",mfc=\"green\",markersize=7)\n",
    "    ax1.plot(x_points[2],y_points[2],ls='',marker='h',mec=\"blue\",mfc=\"yellow\",markersize=10)\n",
    "    ax1.plot(x_points[3:],y_points[3:],ls='',marker='*',mec=\"blue\",mfc=\"orange\",markersize=13)\n",
    "    #ax1.plit()\n",
    "    for i in range(5):\n",
    "        ax1.text(x_points[i]+.08,y_points[i],\"<-------\"+ q_labels[i]+ \": \"+f\"{round(y_points[i],4)}\",horizontalalignment=\"left\")\n",
    "        plt.tight_layout()\n",
    "    if not outliers[j]:\n",
    "        x=0\n",
    "    else:\n",
    "        round_out=round(outliers[j][0],4)\n",
    "        ax1.plot(1,outliers[j][0],ls='',marker='_',mec=\"red\",mfc=\"red\",markersize=70)\n",
    "        ax1.text(1-.2,outliers[j][0]-2, f\"Outlier {round_out}---->\",horizontalalignment=\"left\")\n",
    "    plt.tight_layout()"
   ]
  },
  {
   "cell_type": "markdown",
   "metadata": {},
   "source": [
    "## Line and Scatter Plots"
   ]
  },
  {
   "cell_type": "code",
   "execution_count": null,
   "metadata": {},
   "outputs": [],
   "source": [
    "# Generate a line plot of tumor volume vs. time point for a mouse treated with Capomulin\n",
    "treatment_slect=0\n",
    "drug=treatments[0]\n",
    "capomulin_weight_df=combined_data.loc[combined_data[\"Drug Regimen\"]==drug]\n",
    "#mouse treated with capomulin_mouse_df\n",
    "mouse=(np.unique(capomulin_weight_df[\"Mouse ID\"].tolist())).tolist()\n",
    "mouse_select=0\n",
    "capomulin_mouse_df=combined_data.loc[combined_data[\"Mouse ID\"]==mouse[mouse_select]]\n",
    "x_time=capomulin_mouse_df[\"Timepoint\"]\n",
    "y_tv=capomulin_mouse_df[\"Tumor Volume (mm3)\"]\n",
    "plt.plot(x_time,y_tv,marker='o',color='blue')\n",
    "plt.xlabel(\"Time\")\n",
    "plt.ylabel(\"Tumor Volume (mm3)\")\n",
    "plt.title(f\"Tumor Volume vs. Time Point for {mouse[mouse_select]} treated with {drug}\")\n",
    "plt.show()"
   ]
  },
  {
   "cell_type": "code",
   "execution_count": null,
   "metadata": {},
   "outputs": [],
   "source": [
    "# Generate a scatter plot of average tumor volume vs. mouse weight for the Capomulin regimen\n",
    "capomulin_weight_df.head()"
   ]
  },
  {
   "cell_type": "code",
   "execution_count": null,
   "metadata": {},
   "outputs": [],
   "source": [
    "avg_tv=capomulin_weight_df.groupby(\"Mouse ID\")[\"Tumor Volume (mm3)\"].mean()\n",
    "avg_weight=capomulin_weight_df.groupby(\"Mouse ID\")[\"Weight (g)\"].mean()\n",
    "#mice_weight=capomulin_weight_df[\"Weight (g)\"].tolist()\n",
    "#tv_vol_mm3=capomulin_weight_df[\"Tumor Volume (mm3)\"].tolist()\n",
    "plt.scatter(avg_tv,avg_weight)\n",
    "plt.title(f\"Average Tumor Volume vs Mouse Weight for the {drug} Regimen.\")\n",
    "plt.ylabel(\"Weight (g)\")\n",
    "plt.xlabel(\"Tumor Volume (mm3)\")\n",
    "plt.show()"
   ]
  },
  {
   "cell_type": "markdown",
   "metadata": {},
   "source": [
    "\n",
    "## Correlation and Regression"
   ]
  },
  {
   "cell_type": "code",
   "execution_count": null,
   "metadata": {},
   "outputs": [],
   "source": [
    "# Calculate the correlation coefficient and linear regression model \n",
    "# for mouse weight and average tumor volume for the Capomulin regimen\n",
    "c=sts.pearsonr(avg_tv,avg_weight)[0]\n",
    "(slope1, intercept1, rvalue1, pvalue1, stderr1) = linregress(avg_tv,avg_weight)\n",
    "regress_values1 = avg_tv * slope1 + intercept1\n",
    "line_eq1 = \"y = \" + str(round(slope1,3)) + \"x + \" + str(round(intercept1,3))\n",
    "plt.scatter(avg_tv,avg_weight)\n",
    "plt.title(f\"Average Tumor Volume vs Mouse Weight for the {drug} Regimen.\")\n",
    "plt.plot(avg_tv, regress_values1,\"r-\")\n",
    "plt.annotate(line_eq1,(40,21.5),fontsize=15,color=\"red\")\n",
    "plt.xlabel(f\"Tumor Volume (mm3) \\n The r-squared is: {round((rvalue1**2),3)} \\n The correlation between mouse weight and average tumor volume is {round(c,3)}\")\n",
    "plt.ylabel(\"Weight (g)\")\n",
    "plt.show()"
   ]
  },
  {
   "cell_type": "code",
   "execution_count": null,
   "metadata": {},
   "outputs": [],
   "source": []
  },
  {
   "cell_type": "code",
   "execution_count": null,
   "metadata": {},
   "outputs": [],
   "source": []
  }
 ],
 "metadata": {
  "anaconda-cloud": {},
  "kernelspec": {
   "display_name": "Python 3",
   "language": "python",
   "name": "python3"
  },
  "language_info": {
   "codemirror_mode": {
    "name": "ipython",
    "version": 3
   },
   "file_extension": ".py",
   "mimetype": "text/x-python",
   "name": "python",
   "nbconvert_exporter": "python",
   "pygments_lexer": "ipython3",
   "version": "3.8.5"
  }
 },
 "nbformat": 4,
 "nbformat_minor": 4
}
